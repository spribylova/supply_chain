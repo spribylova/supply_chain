{
  "nbformat": 4,
  "nbformat_minor": 0,
  "metadata": {
    "colab": {
      "provenance": []
    },
    "kernelspec": {
      "name": "python3",
      "display_name": "Python 3"
    },
    "language_info": {
      "name": "python"
    }
  },
  "cells": [
    {
      "cell_type": "code",
      "source": [
        "pip uninstall pulp"
      ],
      "metadata": {
        "colab": {
          "base_uri": "https://localhost:8080/"
        },
        "id": "cIJUJouquOSf",
        "outputId": "062450bf-5900-4fde-b10c-d359f8da28c6"
      },
      "execution_count": 79,
      "outputs": [
        {
          "output_type": "stream",
          "name": "stdout",
          "text": [
            "Found existing installation: PuLP 3.1.1\n",
            "Uninstalling PuLP-3.1.1:\n",
            "  Would remove:\n",
            "    /usr/local/bin/pulptest\n",
            "    /usr/local/lib/python3.11/dist-packages/pulp-3.1.1.dist-info/*\n",
            "    /usr/local/lib/python3.11/dist-packages/pulp/*\n",
            "Proceed (Y/n)? \u001b[31mERROR: Operation cancelled by user\u001b[0m\u001b[31m\n",
            "\u001b[0mTraceback (most recent call last):\n",
            "  File \"/usr/local/lib/python3.11/dist-packages/pip/_internal/cli/base_command.py\", line 179, in exc_logging_wrapper\n",
            "    status = run_func(*args)\n",
            "             ^^^^^^^^^^^^^^^\n",
            "  File \"/usr/local/lib/python3.11/dist-packages/pip/_internal/commands/uninstall.py\", line 106, in run\n",
            "    uninstall_pathset = req.uninstall(\n",
            "                        ^^^^^^^^^^^^^^\n",
            "  File \"/usr/local/lib/python3.11/dist-packages/pip/_internal/req/req_install.py\", line 722, in uninstall\n",
            "    uninstalled_pathset.remove(auto_confirm, verbose)\n",
            "  File \"/usr/local/lib/python3.11/dist-packages/pip/_internal/req/req_uninstall.py\", line 364, in remove\n",
            "    if auto_confirm or self._allowed_to_proceed(verbose):\n",
            "                       ^^^^^^^^^^^^^^^^^^^^^^^^^^^^^^^^^\n",
            "  File \"/usr/local/lib/python3.11/dist-packages/pip/_internal/req/req_uninstall.py\", line 404, in _allowed_to_proceed\n",
            "    return ask(\"Proceed (Y/n)? \", (\"y\", \"n\", \"\")) != \"n\"\n",
            "           ^^^^^^^^^^^^^^^^^^^^^^^^^^^^^^^^^^^^^^\n",
            "  File \"/usr/local/lib/python3.11/dist-packages/pip/_internal/utils/misc.py\", line 235, in ask\n",
            "    response = input(message)\n",
            "               ^^^^^^^^^^^^^^\n",
            "KeyboardInterrupt\n",
            "\n",
            "During handling of the above exception, another exception occurred:\n",
            "\n",
            "Traceback (most recent call last):\n",
            "  File \"/usr/local/bin/pip3\", line 10, in <module>\n",
            "    sys.exit(main())\n",
            "             ^^^^^^\n",
            "  File \"/usr/local/lib/python3.11/dist-packages/pip/_internal/cli/main.py\", line 80, in main\n",
            "    return command.main(cmd_args)\n",
            "           ^^^^^^^^^^^^^^^^^^^^^^\n",
            "  File \"/usr/local/lib/python3.11/dist-packages/pip/_internal/cli/base_command.py\", line 100, in main\n",
            "    return self._main(args)\n",
            "           ^^^^^^^^^^^^^^^^\n",
            "  File \"/usr/local/lib/python3.11/dist-packages/pip/_internal/cli/base_command.py\", line 232, in _main\n",
            "    return run(options, args)\n",
            "           ^^^^^^^^^^^^^^^^^^\n",
            "  File \"/usr/local/lib/python3.11/dist-packages/pip/_internal/cli/base_command.py\", line 216, in exc_logging_wrapper\n",
            "    logger.debug(\"Exception information:\", exc_info=True)\n",
            "  File \"/usr/lib/python3.11/logging/__init__.py\", line 1477, in debug\n",
            "    self._log(DEBUG, msg, args, **kwargs)\n",
            "  File \"/usr/lib/python3.11/logging/__init__.py\", line 1634, in _log\n",
            "    self.handle(record)\n",
            "  File \"/usr/lib/python3.11/logging/__init__.py\", line 1644, in handle\n",
            "    self.callHandlers(record)\n",
            "  File \"/usr/lib/python3.11/logging/__init__.py\", line 1706, in callHandlers\n",
            "    hdlr.handle(record)\n",
            "  File \"/usr/lib/python3.11/logging/__init__.py\", line 978, in handle\n",
            "    self.emit(record)\n",
            "  File \"/usr/lib/python3.11/logging/handlers.py\", line 75, in emit\n",
            "    logging.FileHandler.emit(self, record)\n",
            "  File \"/usr/lib/python3.11/logging/__init__.py\", line 1230, in emit\n",
            "    StreamHandler.emit(self, record)\n",
            "  File \"/usr/lib/python3.11/logging/__init__.py\", line 1110, in emit\n",
            "    msg = self.format(record)\n",
            "          ^^^^^^^^^^^^^^^^^^^\n",
            "  File \"/usr/lib/python3.11/logging/__init__.py\", line 953, in format\n",
            "    return fmt.format(record)\n",
            "           ^^^^^^^^^^^^^^^^^^\n",
            "  File \"/usr/local/lib/python3.11/dist-packages/pip/_internal/utils/logging.py\", line 112, in format\n",
            "    formatted = super().format(record)\n",
            "                ^^^^^^^^^^^^^^^^^^^^^^\n",
            "  File \"/usr/lib/python3.11/logging/__init__.py\", line 695, in format\n",
            "    record.exc_text = self.formatException(record.exc_info)\n",
            "                      ^^^^^^^^^^^^^^^^^^^^^^^^^^^^^^^^^^^^^\n",
            "  File \"/usr/lib/python3.11/logging/__init__.py\", line 645, in formatException\n",
            "    traceback.print_exception(ei[0], ei[1], tb, None, sio)\n",
            "  File \"/usr/lib/python3.11/traceback.py\", line 124, in print_exception\n",
            "    te = TracebackException(type(value), value, tb, limit=limit, compact=True)\n",
            "         ^^^^^^^^^^^^^^^^^^^^^^^^^^^^^^^^^^^^^^^^^^^^^^^^^^^^^^^^^^^^^^^^^^^^^\n",
            "  File \"/usr/lib/python3.11/traceback.py\", line 728, in __init__\n",
            "    self.stack = StackSummary._extract_from_extended_frame_gen(\n",
            "                 ^^^^^^^^^^^^^^^^^^^^^^^^^^^^^^^^^^^^^^^^^^^^^^\n",
            "  File \"/usr/lib/python3.11/traceback.py\", line 433, in _extract_from_extended_frame_gen\n",
            "    f.line\n",
            "  File \"/usr/lib/python3.11/traceback.py\", line 318, in line\n",
            "    self._line = linecache.getline(self.filename, self.lineno)\n",
            "                 ^^^^^^^^^^^^^^^^^^^^^^^^^^^^^^^^^^^^^^^^^^^^^\n",
            "  File \"/usr/lib/python3.11/linecache.py\", line 30, in getline\n",
            "    lines = getlines(filename, module_globals)\n",
            "            ^^^^^^^^^^^^^^^^^^^^^^^^^^^^^^^^^^\n",
            "  File \"/usr/lib/python3.11/linecache.py\", line 46, in getlines\n",
            "    return updatecache(filename, module_globals)\n",
            "           ^^^^^^^^^^^^^^^^^^^^^^^^^^^^^^^^^^^^^\n",
            "  File \"/usr/lib/python3.11/linecache.py\", line 136, in updatecache\n",
            "    with tokenize.open(fullname) as fp:\n",
            "         ^^^^^^^^^^^^^^^^^^^^^^^\n",
            "  File \"/usr/lib/python3.11/tokenize.py\", line 398, in open\n",
            "    encoding, lines = detect_encoding(buffer.readline)\n",
            "                      ^^^^^^^^^^^^^^^^^^^^^^^^^^^^^^^^\n",
            "  File \"/usr/lib/python3.11/tokenize.py\", line 367, in detect_encoding\n",
            "    first = read_or_stop()\n",
            "            ^^^^^^^^^^^^^^\n",
            "  File \"/usr/lib/python3.11/tokenize.py\", line 325, in read_or_stop\n",
            "    return readline()\n",
            "           ^^^^^^^^^^\n",
            "KeyboardInterrupt\n",
            "^C\n"
          ]
        }
      ]
    },
    {
      "cell_type": "code",
      "source": [
        "pip install pulp"
      ],
      "metadata": {
        "colab": {
          "base_uri": "https://localhost:8080/"
        },
        "id": "RaFXvxPmb5If",
        "outputId": "fa3d679c-627f-4b44-c954-71588ad76863"
      },
      "execution_count": 80,
      "outputs": [
        {
          "output_type": "stream",
          "name": "stdout",
          "text": [
            "Requirement already satisfied: pulp in /usr/local/lib/python3.11/dist-packages (3.1.1)\n"
          ]
        }
      ]
    },
    {
      "cell_type": "code",
      "execution_count": 81,
      "metadata": {
        "id": "U3g7LTBab0AZ"
      },
      "outputs": [],
      "source": [
        "import pandas as pd\n",
        "from pulp import *"
      ]
    },
    {
      "cell_type": "code",
      "source": [
        "#Create a variable to hold the problem data\n",
        "problem = LpProblem(\"Cost_Min\", LpMinimize)"
      ],
      "metadata": {
        "id": "PcRW_iD1fvOF"
      },
      "execution_count": 82,
      "outputs": []
    },
    {
      "cell_type": "code",
      "source": [
        "# Define the supply and demand values\n",
        "# There are 3 Factories: 1 in Bregenz, 1 in Zürich and 1 in Munich, Each Factory has different supply cacpacity.\n",
        "supply = {\n",
        "    \"Bregenz\": 100,\n",
        "    \"Zürich\": 150,\n",
        "    \"Munich\": 200\n",
        "}\n",
        "\n",
        "# There are 5 Retailers, Each Retailer has different demand.\n",
        "demand = {\n",
        "    \"Konstanz\": 80,\n",
        "    \"Friedrichshafen\": 50,\n",
        "    \"Buchs\": 70,\n",
        "    \"Lindau\": 60,\n",
        "    \"Lochau\": 120\n",
        "}"
      ],
      "metadata": {
        "id": "lrPdT5_tb5M-"
      },
      "execution_count": 83,
      "outputs": []
    },
    {
      "cell_type": "code",
      "source": [
        "# Create a list of sources and destinations\n",
        "sources = list(supply.keys())\n",
        "destinations = list(demand.keys())"
      ],
      "metadata": {
        "id": "CdYSbBf2b5XK"
      },
      "execution_count": 84,
      "outputs": []
    },
    {
      "cell_type": "code",
      "source": [
        "# Define the transportation cost matrix using nested lists\n",
        "costs = [\n",
        "    [1000, 900, 900, 300, 300],  # Transportation Costs from Bregenz to: Konstanz, Friedrichshafen, Buchs, Lindau, Lochau\n",
        "    [900, 1100, 400, 900, 1000], # Transportation Costs from Zürich to: Konstanz, Friedrichshafen, Buchs, Lindau, Lochau\n",
        "    [500, 500, 900, 500, 700]   # Transportation Costs from Munich to: Konstanz, Friedrichshafen, Buchs, Lindau, Lochau\n",
        "]\n",
        "\n",
        "# Create the cost dictionary using the given costs matrix\n",
        "cost = {\n",
        "    (sources[i], destinations[j]): costs[i][j]\n",
        "    for i in range(len(sources))\n",
        "    for j in range(len(destinations))\n",
        "}"
      ],
      "metadata": {
        "id": "V-6hyr-ub5bI"
      },
      "execution_count": 85,
      "outputs": []
    },
    {
      "cell_type": "code",
      "source": [
        "# Create binary decision variables for each source-destination pair\n",
        "X = LpVariable.dicts(\"X\", (sources, destinations), lowBound=0, cat=LpInteger)"
      ],
      "metadata": {
        "id": "yx59YkbMgjIv"
      },
      "execution_count": 86,
      "outputs": []
    },
    {
      "cell_type": "code",
      "source": [
        "# Define the objective function\n",
        "problem += pulp.lpSum(X[source][dest] * cost[source, dest] for source in sources for dest in destinations), \"Total Cost\""
      ],
      "metadata": {
        "id": "5DH31BABgjMR"
      },
      "execution_count": 87,
      "outputs": []
    },
    {
      "cell_type": "code",
      "source": [
        "#Add supply constraints\n",
        "for source in sources:\n",
        "    problem += pulp.lpSum(X[source][dest] for dest in destinations) <= supply[source], f\"Supply{source}\""
      ],
      "metadata": {
        "id": "0fPINSIKh8Vr"
      },
      "execution_count": 88,
      "outputs": []
    },
    {
      "cell_type": "code",
      "source": [
        "#Add demand constraints\n",
        "for dest in destinations:\n",
        "    problem += pulp.lpSum(X[source][dest] for source in sources) == demand[dest], f\"Demand{dest}\""
      ],
      "metadata": {
        "id": "A6lU69o_hO1-"
      },
      "execution_count": 89,
      "outputs": []
    },
    {
      "cell_type": "code",
      "source": [
        "#Solve the problem\n",
        "problem.solve()"
      ],
      "metadata": {
        "colab": {
          "base_uri": "https://localhost:8080/"
        },
        "id": "_iL0sTqMb5i5",
        "outputId": "1491a70a-03e7-4633-dc03-f7e569ae0747"
      },
      "execution_count": 90,
      "outputs": [
        {
          "output_type": "execute_result",
          "data": {
            "text/plain": [
              "1"
            ]
          },
          "metadata": {},
          "execution_count": 90
        }
      ]
    },
    {
      "cell_type": "code",
      "source": [
        "# Optimized allocation: total transportation cost is EUR 170 000\n",
        "# Cost-effective and balanced distribution: satisfies both the supply capacity of each factory and the demand of each retailer\n",
        "for source in sources:\n",
        "    for dest in destinations:\n",
        "        if X[source][dest].varValue > 0:\n",
        "            print(f\"Ship {X[source][dest].varValue} units from {source} to {dest}\")\n",
        "\n",
        "print(f\"Total Cost: EUR {pulp.value(problem.objective)}\")"
      ],
      "metadata": {
        "colab": {
          "base_uri": "https://localhost:8080/"
        },
        "id": "T5bt0dtjhzcn",
        "outputId": "ed431ada-4ffa-4e01-ebee-d7d7e2beae36"
      },
      "execution_count": 92,
      "outputs": [
        {
          "output_type": "stream",
          "name": "stdout",
          "text": [
            "Ship 100.0 units from Bregenz to Lochau\n",
            "Ship 70.0 units from Zürich to Buchs\n",
            "Ship 10.0 units from Zürich to Lochau\n",
            "Ship 80.0 units from Munich to Konstanz\n",
            "Ship 50.0 units from Munich to Friedrichshafen\n",
            "Ship 60.0 units from Munich to Lindau\n",
            "Ship 10.0 units from Munich to Lochau\n",
            "Total Cost: EUR 170000.0\n"
          ]
        }
      ]
    },
    {
      "cell_type": "code",
      "source": [
        "# https://coin-or.github.io/pulp/"
      ],
      "metadata": {
        "id": "5QOP_r7fieET"
      },
      "execution_count": null,
      "outputs": []
    }
  ]
}