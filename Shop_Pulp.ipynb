{
  "nbformat": 4,
  "nbformat_minor": 0,
  "metadata": {
    "colab": {
      "provenance": []
    },
    "kernelspec": {
      "name": "python3",
      "display_name": "Python 3"
    },
    "language_info": {
      "name": "python"
    }
  },
  "cells": [
    {
      "cell_type": "markdown",
      "source": [
        "**A. Chairs and Tables Shop**\n",
        "\n",
        "Shop manufactures two types of furniture: chairs and tables.\n",
        "\n",
        "**Objective:** to maximize weekly profit ( Objective = Value ). ( 20 EUR of profit per chair, 30 EUR of profit per table )\n",
        "\n",
        "A chair requires 1 hour of finishing labor and 2 hours of carpentry labor.\n",
        "\n",
        "A table requires 2 hours of finishing labor and 1 hour of carpentry labor.\n",
        "\n",
        "Each week, Shop has only 100 finishing hours and 100 carpentry hours available.\n",
        "\n",
        "x1 - number of chairs produced each week\n",
        "\n",
        "x2 - number of tables produced each week\n",
        "\n",
        "PuLP uses LP solvers (GLPK, COIN CLP/CBC, CPLEX, and GUROBI) to solve linear problems"
      ],
      "metadata": {
        "id": "ez2HG8enjOaX"
      }
    },
    {
      "cell_type": "code",
      "source": [
        "pip install pulp"
      ],
      "metadata": {
        "colab": {
          "base_uri": "https://localhost:8080/"
        },
        "id": "Y5ba9uqRmJbs",
        "outputId": "63128bda-f46d-4a6d-a37e-10ff0c7c013f"
      },
      "execution_count": 2,
      "outputs": [
        {
          "output_type": "stream",
          "name": "stdout",
          "text": [
            "Collecting pulp\n",
            "  Downloading pulp-3.1.1-py3-none-any.whl.metadata (1.3 kB)\n",
            "Downloading pulp-3.1.1-py3-none-any.whl (16.4 MB)\n",
            "\u001b[2K   \u001b[90m━━━━━━━━━━━━━━━━━━━━━━━━━━━━━━━━━━━━━━━━\u001b[0m \u001b[32m16.4/16.4 MB\u001b[0m \u001b[31m59.0 MB/s\u001b[0m eta \u001b[36m0:00:00\u001b[0m\n",
            "\u001b[?25hInstalling collected packages: pulp\n",
            "Successfully installed pulp-3.1.1\n"
          ]
        }
      ]
    },
    {
      "cell_type": "code",
      "source": [
        "# Import PuLP modeler functions\n",
        "from pulp import *"
      ],
      "metadata": {
        "id": "0OQ9OfIjmA6-"
      },
      "execution_count": 3,
      "outputs": []
    },
    {
      "cell_type": "code",
      "source": [
        "# Create a LP maximization problem\n",
        "# prob = weekly total profit\n",
        "prob = LpProblem(\"Furniture Shop\", LpMaximize)"
      ],
      "metadata": {
        "id": "x-K0xEPVmBAX"
      },
      "execution_count": 65,
      "outputs": []
    },
    {
      "cell_type": "code",
      "source": [
        "# LpVariable(variable name, lower Bound=None, uppper Bound=None, catagory='Continuous')\n",
        "x1 = LpVariable(\"x1\", lowBound=0) # Chairs, Create a variable x1 >= 0\n",
        "x2 = LpVariable(\"x2\", lowBound=0) # Tables, Create another variable x2 >= 0"
      ],
      "metadata": {
        "id": "NdANmgynmBEF"
      },
      "execution_count": 66,
      "outputs": []
    },
    {
      "cell_type": "code",
      "source": [
        "# Objective Function ( x1 chairs, x2 tables)\n",
        "prob += 20*x1 + 30*x2\n",
        "# prob += 20*x1 + 30*x2, \"obj\""
      ],
      "metadata": {
        "id": "e8DlhmsJmBIy"
      },
      "execution_count": 67,
      "outputs": []
    },
    {
      "cell_type": "code",
      "source": [
        "# Constraints\n",
        "prob += 1*x1 + 2*x2 <= 100  # Finishing hours\n",
        "prob += 2*x1 + 1*x2 <= 100  # Carpentry hours\n",
        "\n",
        "# prob += 1*x1 + 2*x2 <= 100,\"Finishing hours\"\n",
        "# prob += 2*x1 + 1*x2 <= 100,\"Carpentry hours\""
      ],
      "metadata": {
        "id": "_mvbZhNtmBMT"
      },
      "execution_count": 68,
      "outputs": []
    },
    {
      "cell_type": "code",
      "source": [
        "# Display the LP problem\n",
        "prob"
      ],
      "metadata": {
        "colab": {
          "base_uri": "https://localhost:8080/"
        },
        "id": "AdEYsq2_mBP9",
        "outputId": "512b9cf4-332d-4029-890a-2d8ebc8eddb9"
      },
      "execution_count": 69,
      "outputs": [
        {
          "output_type": "execute_result",
          "data": {
            "text/plain": [
              "Furniture_Shop:\n",
              "MAXIMIZE\n",
              "20*x1 + 30*x2 + 0\n",
              "SUBJECT TO\n",
              "_C1: x1 + 2 x2 <= 100\n",
              "\n",
              "_C2: 2 x1 + x2 <= 100\n",
              "\n",
              "VARIABLES\n",
              "x1 Continuous\n",
              "x2 Continuous"
            ]
          },
          "metadata": {},
          "execution_count": 69
        }
      ]
    },
    {
      "cell_type": "markdown",
      "source": [
        "**There are 5 status solver codes:**\n",
        "\n",
        "Not Solved: Status prior to solving the problem.\n",
        "\n",
        "Optimal: An optimal solution has been found.\n",
        "\n",
        "Infeasible: There are no feasible solutions (e.g. if you set the constraints x <= 1 and x >=2).\n",
        "\n",
        "Unbounded: The constraints are not bounded, maximising the solution will tend towards infinity (e.g. if the only constraint was x >= 3).\n",
        "\n",
        "Undefined: The optimal solution may exist but may not have been found."
      ],
      "metadata": {
        "id": "w_-aJTUShNkr"
      }
    },
    {
      "cell_type": "code",
      "source": [
        "# Solve with the default solver\n",
        "prob.solve()"
      ],
      "metadata": {
        "colab": {
          "base_uri": "https://localhost:8080/"
        },
        "id": "mrX5TI61mBTu",
        "outputId": "01de7361-4d17-4267-bd05-439604e323ad"
      },
      "execution_count": 9,
      "outputs": [
        {
          "output_type": "execute_result",
          "data": {
            "text/plain": [
              "1"
            ]
          },
          "metadata": {},
          "execution_count": 9
        }
      ]
    },
    {
      "cell_type": "code",
      "source": [
        "# Print the solution status\n",
        "\n",
        "print(\"Status:\", LpStatus[prob.status])"
      ],
      "metadata": {
        "colab": {
          "base_uri": "https://localhost:8080/"
        },
        "id": "AIj9wYALmBXG",
        "outputId": "7f6c7d51-ab44-49ff-d880-0f1d4adc12f2"
      },
      "execution_count": 10,
      "outputs": [
        {
          "output_type": "stream",
          "name": "stdout",
          "text": [
            "Status: Optimal\n"
          ]
        }
      ]
    },
    {
      "cell_type": "code",
      "source": [
        "# Show the solution (1st Approach), maximised weekly profit is 1666 EUR\n",
        "# To achieve maximised weekly profit 1666 EUR, shop should produce 33 chairs per week and 33 tables per week.\n",
        "value(x1), value(x2), value(prob.objective)"
      ],
      "metadata": {
        "colab": {
          "base_uri": "https://localhost:8080/"
        },
        "id": "C1yg57BpmBap",
        "outputId": "b2f5f41f-b903-45eb-c189-c2264c56b881"
      },
      "execution_count": 11,
      "outputs": [
        {
          "output_type": "execute_result",
          "data": {
            "text/plain": [
              "(33.333333, 33.333333, 1666.6666500000001)"
            ]
          },
          "metadata": {},
          "execution_count": 11
        }
      ]
    },
    {
      "cell_type": "code",
      "source": [
        "# Show the solution (2nd Approach), maximised weekly profit is 1666 EUR\n",
        "for v in prob.variables():\n",
        "    print (v.name, \"=\", v.varValue, \"\\tReduced Cost =\", v.dj)"
      ],
      "metadata": {
        "colab": {
          "base_uri": "https://localhost:8080/"
        },
        "id": "UElGDwB_mBeU",
        "outputId": "486bbc9e-52ee-4b01-98f2-cc6460a4e597"
      },
      "execution_count": 12,
      "outputs": [
        {
          "output_type": "stream",
          "name": "stdout",
          "text": [
            "x1 = 33.333333 \tReduced Cost = -0.0\n",
            "x2 = 33.333333 \tReduced Cost = -0.0\n"
          ]
        }
      ]
    },
    {
      "cell_type": "code",
      "source": [
        "print (\"objective=\", value(prob.objective))"
      ],
      "metadata": {
        "colab": {
          "base_uri": "https://localhost:8080/"
        },
        "id": "l9NKu8JbmBh6",
        "outputId": "b3f83cdd-4c23-4e82-8383-4685af9ea26f"
      },
      "execution_count": 13,
      "outputs": [
        {
          "output_type": "stream",
          "name": "stdout",
          "text": [
            "objective= 1666.6666500000001\n"
          ]
        }
      ]
    },
    {
      "cell_type": "markdown",
      "source": [
        "Shadow price - indicates how much the optimal objective function value would change if the right-hand side (RHS) of a constraint increased by one unit. Lower shadow prices could indicate solutions that are more favorable when such constraints change afterwards.\n",
        "\n",
        "Slack - the amount by which a constraint is not binding, meaning the constraint is not fully utilized.\n",
        "\n",
        "When a constraint is binding (slack = 0), the shadow price is non-zero and reflects the marginal value of the resource.\n",
        "When a constraint is non-binding (slack > 0), the shadow price is typically zero, as further increases in the resource would not affect the optimal solution."
      ],
      "metadata": {
        "id": "LHVPW9Uxe2cW"
      }
    },
    {
      "cell_type": "code",
      "source": [
        "print (\"\\nSensitivity Analysis\\nConstraint\\t\\tShadow Price\\tSlack\")\n",
        "for name, c in prob.constraints.items():\n",
        "    print (name, \":\", c, \"\\t\", c.pi, \"\\t\\t\", c.slack)"
      ],
      "metadata": {
        "colab": {
          "base_uri": "https://localhost:8080/"
        },
        "id": "F808nIaimkKt",
        "outputId": "fcea4b39-d307-4e67-9a28-9f89b6dbb549"
      },
      "execution_count": 14,
      "outputs": [
        {
          "output_type": "stream",
          "name": "stdout",
          "text": [
            "\n",
            "Sensitivity Analysis\n",
            "Constraint\t\tShadow Price\tSlack\n",
            "_C1 : x1 + 2*x2 <= 100 \t 13.333333 \t\t -0.0\n",
            "_C2 : 2*x1 + x2 <= 100 \t 3.3333333 \t\t -0.0\n"
          ]
        }
      ]
    },
    {
      "cell_type": "markdown",
      "source": [
        "**B. Fashion Shop**\n",
        "\n",
        "Shop manufactures 3 types of Jacket: white, beige and grey.\n",
        "\n",
        "**Objective:** to maximize weekly profit ( Objective = Value ).\n",
        " ( 10 EUR cost per white jacket, 12 EUR cost per beige jacket, 11 EUR cost per grey jacket )\n",
        "\n",
        "\n",
        "PuLP uses LP solvers (GLPK, COIN CLP/CBC, CPLEX, and GUROBI) to solve linear problems"
      ],
      "metadata": {
        "id": "Fn_Bye5Byczg"
      }
    },
    {
      "cell_type": "code",
      "source": [
        "# Import PuLP modeler functions\n",
        "from pulp import *"
      ],
      "metadata": {
        "id": "tnLHn_HpqH1_"
      },
      "execution_count": 53,
      "outputs": []
    },
    {
      "cell_type": "code",
      "source": [
        "# Create a LP maximization problem\n",
        "prob = LpProblem(\"Fashion Shop\", LpMaximize)"
      ],
      "metadata": {
        "id": "OLxU9TLGqH6P"
      },
      "execution_count": 70,
      "outputs": []
    },
    {
      "cell_type": "code",
      "source": [
        "# LpVariable(variable name, lower Bound=None, uppper Bound=None, catagory='Continuous')\n",
        "x1 = LpVariable(\"x1\",0,None,LpContinuous) # White Jackets: Create a variable x1 >= 0\n",
        "x2 = LpVariable(\"x2\",0,None,LpContinuous) # Beige Jackets: Create another variable x2 >= 0\n",
        "x3 = LpVariable(\"x3\",0,None,LpContinuous) # Grey Jackets: Create another variable x3 >= 0"
      ],
      "metadata": {
        "id": "O2co1jjJkb0t"
      },
      "execution_count": 71,
      "outputs": []
    },
    {
      "cell_type": "code",
      "source": [
        "# Objective Function\n",
        "prob += 10*x1 + 12*x2 + 11*x3"
      ],
      "metadata": {
        "id": "4fleHjaskb6J"
      },
      "execution_count": 72,
      "outputs": []
    },
    {
      "cell_type": "code",
      "source": [
        "# Define the Constraints, Be sure to sell at least 1 beige Jacket and at least 1 grey jacket to diversify the porfolio\n",
        "# Over the fact the white Jacket costs are the smallest\n",
        "prob += 1*x1 + 2*x2 + 3*x3 <= 10 # to sell max 10 jackets\n",
        "prob += 0*x1 + 1*x2 + 2*x3 <= 5  # to sell max max 5 beige or grey\n",
        "prob += 1*x1 >= 1.0 # to sell minimum 1 white\n",
        "prob += 1*x2 >= 1.0 # to sell minimum 1 beige\n",
        "prob += 1*x3 >= 1.0 # to sell minimum 1 grey"
      ],
      "metadata": {
        "id": "zmytOcwLkb-5"
      },
      "execution_count": 73,
      "outputs": []
    },
    {
      "cell_type": "code",
      "source": [
        "# Display the LP problem\n",
        "prob"
      ],
      "metadata": {
        "colab": {
          "base_uri": "https://localhost:8080/"
        },
        "id": "qPslt_uKkcDL",
        "outputId": "71d18b5b-b9a2-4b8b-b538-d98f16a6d64c"
      },
      "execution_count": 74,
      "outputs": [
        {
          "output_type": "execute_result",
          "data": {
            "text/plain": [
              "Fashion_Shop:\n",
              "MAXIMIZE\n",
              "10*x1 + 12*x2 + 11*x3 + 0\n",
              "SUBJECT TO\n",
              "_C1: x1 + 2 x2 + 3 x3 <= 10\n",
              "\n",
              "_C2: x2 + 2 x3 <= 5\n",
              "\n",
              "_C3: x1 >= 1\n",
              "\n",
              "_C4: x2 >= 1\n",
              "\n",
              "_C5: x3 >= 1\n",
              "\n",
              "VARIABLES\n",
              "x1 Continuous\n",
              "x2 Continuous\n",
              "x3 Continuous"
            ]
          },
          "metadata": {},
          "execution_count": 74
        }
      ]
    },
    {
      "cell_type": "code",
      "source": [
        "# Solve with the default solver\n",
        "prob.solve()"
      ],
      "metadata": {
        "colab": {
          "base_uri": "https://localhost:8080/"
        },
        "id": "_LtoK0-0lsyD",
        "outputId": "26c6b35b-079a-4e6b-e762-c370c622b9cf"
      },
      "execution_count": 75,
      "outputs": [
        {
          "output_type": "execute_result",
          "data": {
            "text/plain": [
              "1"
            ]
          },
          "metadata": {},
          "execution_count": 75
        }
      ]
    },
    {
      "cell_type": "code",
      "source": [
        "# Print the solution status\n",
        "print(\"Status:\", LpStatus[prob.status])"
      ],
      "metadata": {
        "colab": {
          "base_uri": "https://localhost:8080/"
        },
        "id": "eDqF3VFmls2h",
        "outputId": "3dadaa8d-ef0b-4acc-a5e7-21f3ae7487b8"
      },
      "execution_count": 76,
      "outputs": [
        {
          "output_type": "stream",
          "name": "stdout",
          "text": [
            "Status: Optimal\n"
          ]
        }
      ]
    },
    {
      "cell_type": "code",
      "source": [
        "# Show the solution (1st Approach)\n",
        "# Pulp recommends to sell 5 white jackets, 1 beige jacket and 1 grey jacket to maximise the profit\n",
        "# Minimised costs are is 73 EUR ( 5 * 10 EUR + 12 EUR + 11 EUR )\n",
        "value(x1), value(x2), value(x3), value(prob.objective)"
      ],
      "metadata": {
        "colab": {
          "base_uri": "https://localhost:8080/"
        },
        "id": "__wOb7fql0Ll",
        "outputId": "ef310c0f-fd44-4b57-995e-1d8fb7e55403"
      },
      "execution_count": 78,
      "outputs": [
        {
          "output_type": "execute_result",
          "data": {
            "text/plain": [
              "(5.0, 1.0, 1.0, 73.0)"
            ]
          },
          "metadata": {},
          "execution_count": 78
        }
      ]
    },
    {
      "cell_type": "code",
      "source": [
        "# Show the solution (2nd Approach)\n",
        "for v in prob.variables():\n",
        "    print (v.name, \"=\", v.varValue, \"\\tReduced Cost =\", v.dj)"
      ],
      "metadata": {
        "colab": {
          "base_uri": "https://localhost:8080/"
        },
        "id": "A0WkbTm2l0P9",
        "outputId": "7355e69b-77b5-4f27-ed57-4cce176c9ad3"
      },
      "execution_count": 79,
      "outputs": [
        {
          "output_type": "stream",
          "name": "stdout",
          "text": [
            "x1 = 5.0 \tReduced Cost = 0.0\n",
            "x2 = 1.0 \tReduced Cost = 0.0\n",
            "x3 = 1.0 \tReduced Cost = 0.0\n"
          ]
        }
      ]
    },
    {
      "cell_type": "code",
      "source": [
        "print (\"objective=\", value(prob.objective))"
      ],
      "metadata": {
        "colab": {
          "base_uri": "https://localhost:8080/"
        },
        "id": "XPOG5djpls7V",
        "outputId": "cdc147dc-036d-4ac7-f5b0-f9dcf23dfb7c"
      },
      "execution_count": 80,
      "outputs": [
        {
          "output_type": "stream",
          "name": "stdout",
          "text": [
            "objective= 73.0\n"
          ]
        }
      ]
    },
    {
      "cell_type": "code",
      "source": [
        "print (\"\\nSensitivity Analysis\\nConstraint\\t\\t\\tShadow Price\\tSlack\")\n",
        "for name, c in prob.constraints.items():\n",
        "    print (name, \":\", c, \"\\t\", c.pi, \"\\t\", c.slack)"
      ],
      "metadata": {
        "colab": {
          "base_uri": "https://localhost:8080/"
        },
        "id": "VuO6j_6vkcHh",
        "outputId": "28218cf7-169d-4565-9691-5801b388f72e"
      },
      "execution_count": 82,
      "outputs": [
        {
          "output_type": "stream",
          "name": "stdout",
          "text": [
            "\n",
            "Sensitivity Analysis\n",
            "Constraint\t\t\tShadow Price\tSlack\n",
            "_C1 : x1 + 2*x2 + 3*x3 <= 10 \t 10.0 \t -0.0\n",
            "_C2 : x2 + 2*x3 <= 5.0 \t -0.0 \t 2.0\n",
            "_C3 : x1 >= 1.0 \t -0.0 \t -4.0\n",
            "_C4 : x2 >= 1.0 \t -8.0 \t -0.0\n",
            "_C5 : x3 >= 1.0 \t -19.0 \t -0.0\n"
          ]
        }
      ]
    },
    {
      "cell_type": "markdown",
      "source": [
        "**C. Fashion Shop**\n",
        "\n",
        "Shop manufactures 2 types of Blazer: white and black.They are delivered in Batches. Each batch has 20 Blazers, ballck blazers are cheaper.\n",
        "\n",
        "**Objective:** to minimize weekly cost ( Objective = Value ).\n",
        " ( 600 EUR cost per white blazer batch, 400 EUR cost per black blazer batch )\n",
        "\n",
        "\n",
        "PuLP uses LP solvers (GLPK, COIN CLP/CBC, CPLEX, and GUROBI) to solve linear problems"
      ],
      "metadata": {
        "id": "3WtQCLBuyNK4"
      }
    },
    {
      "cell_type": "code",
      "source": [
        "from pulp import *\n",
        "import matplotlib.pyplot as plt\n",
        "import numpy as np"
      ],
      "metadata": {
        "id": "yl5nnb1Oy0WX"
      },
      "execution_count": 111,
      "outputs": []
    },
    {
      "cell_type": "code",
      "source": [
        "# Create an object of a model\n",
        "prob = LpProblem(\"Simple LP Problem\", LpMinimize)"
      ],
      "metadata": {
        "id": "QL2mFUbjy0bG"
      },
      "execution_count": 112,
      "outputs": []
    },
    {
      "cell_type": "code",
      "source": [
        "# Define the decision variables\n",
        "x1 = LpVariable(\"x1\", 0) # white blazer batch\n",
        "x2 = LpVariable(\"x2\", 0) # black blazer batch"
      ],
      "metadata": {
        "id": "fQTpTP0mzcAD"
      },
      "execution_count": 113,
      "outputs": []
    },
    {
      "cell_type": "code",
      "source": [
        "# Define the objective function\n",
        "prob += 600*x1 + 400*x2"
      ],
      "metadata": {
        "id": "QLBeRpqJzcEx"
      },
      "execution_count": 103,
      "outputs": []
    },
    {
      "cell_type": "code",
      "source": [
        "# Define the constraints\n",
        "prob += 4*x1 + 4*x2 >= 10.0, \"1st constraint\"\n",
        "prob += 2*x1 + x2 >= 4.0, \"2nd constraint\"\n",
        "prob += 6*x1 + 2*x2 <= 12.0, \"3rd constraint\""
      ],
      "metadata": {
        "id": "o9waFrYbzoa5"
      },
      "execution_count": 104,
      "outputs": []
    },
    {
      "cell_type": "code",
      "source": [
        "# Solve the linear programming problem\n",
        "prob.solve()"
      ],
      "metadata": {
        "colab": {
          "base_uri": "https://localhost:8080/"
        },
        "id": "cukDRbBMzof7",
        "outputId": "b1d7dc6e-4baf-416d-d27f-b414a19c598d"
      },
      "execution_count": 105,
      "outputs": [
        {
          "output_type": "execute_result",
          "data": {
            "text/plain": [
              "1"
            ]
          },
          "metadata": {},
          "execution_count": 105
        }
      ]
    },
    {
      "cell_type": "code",
      "source": [
        "# Print the results\n",
        "print (\"Status: \", LpStatus[prob.status])"
      ],
      "metadata": {
        "colab": {
          "base_uri": "https://localhost:8080/"
        },
        "id": "JIbqzIfBzols",
        "outputId": "da62fd2b-5e35-40f1-97a4-5281a6c85acb"
      },
      "execution_count": 106,
      "outputs": [
        {
          "output_type": "stream",
          "name": "stdout",
          "text": [
            "Status:  Optimal\n"
          ]
        }
      ]
    },
    {
      "cell_type": "code",
      "source": [
        "# share: white blazers 3 * 1, black blazers 2 * 1\n",
        "for v in prob.variables():\n",
        "    print (v.name, \"=\", v.varValue)"
      ],
      "metadata": {
        "colab": {
          "base_uri": "https://localhost:8080/"
        },
        "id": "25bWa6eszcKB",
        "outputId": "edf89067-fcca-45b5-e65d-022b0df3a90c"
      },
      "execution_count": 107,
      "outputs": [
        {
          "output_type": "stream",
          "name": "stdout",
          "text": [
            "x1 = 1.5\n",
            "x2 = 1.0\n"
          ]
        }
      ]
    },
    {
      "cell_type": "code",
      "source": [
        "print (\"The optimal value of the objective function is = \", value(prob.objective))"
      ],
      "metadata": {
        "colab": {
          "base_uri": "https://localhost:8080/"
        },
        "id": "17U6JzzEy0gJ",
        "outputId": "0c6aecd3-ccd3-4071-9f26-d5d41953e8ec"
      },
      "execution_count": 108,
      "outputs": [
        {
          "output_type": "stream",
          "name": "stdout",
          "text": [
            "The optimal value of the objective function is =  1300.0\n"
          ]
        }
      ]
    },
    {
      "cell_type": "code",
      "source": [
        "# Plot the optimal solution\n",
        "x = np.arange(0, 4)\n",
        "plt.plot(x, 2.5 - x, label = '4x1 + 4x2 >= 10', color=\"black\")\n",
        "plt.plot(x, 4 - 2 * x, label= ' 2x1 + x2 >= 4', color=\"grey\")\n",
        "plt.plot(x, 6 - 3 * x, label = '6x1 + 2x2 <= 12', color=\"silver\")\n",
        "\n",
        "plt.axis([0, 3, 0, 6])\n",
        "plt.grid(True)\n",
        "plt.legend()\n",
        "plt.show()"
      ],
      "metadata": {
        "colab": {
          "base_uri": "https://localhost:8080/",
          "height": 435
        },
        "id": "ZbxKwcAsy0kq",
        "outputId": "77b4a5f0-4041-48f3-f584-58e51ee8d360"
      },
      "execution_count": 115,
      "outputs": [
        {
          "output_type": "display_data",
          "data": {
            "text/plain": [
              "<Figure size 640x480 with 1 Axes>"
            ],
            "image/png": "[encoded data removed]"
          },
          "metadata": {}
        }
      ]
    },
    {
      "cell_type": "code",
      "source": [
        "# Plot the optimal solution\n",
        "x = np.arange(0, 4)\n",
        "plt.plot(x, 2.5 - x, label = '4x1 + 4x2 >= 10', color=\"black\")\n",
        "plt.plot(x, 4 - 2 * x, label= ' 2x1 + x2 >= 4', color=\"grey\")\n",
        "plt.plot(x, 6 - 3 * x, label = '6x1 + 2x2 <= 12', color=\"silver\")\n",
        "plt.plot(x, 2 - 2/3*x, '--', color=\"black\")\n",
        "\n",
        "# Define the boundaries of the feasible area in the plot\n",
        "x = [0, 1.5, 1.75, 0]\n",
        "y = [4, 1, 0.75, 6]\n",
        "plt.fill(x, y, 'grey')\n",
        "\n",
        "plt.text(0.1, 4, 'Feasible \\n Region', size = '11')\n",
        "plt.annotate('Optimal \\n solution\\n(1.5, 1)', xy = (1.5, 1.0))\n",
        "\n",
        "plt.xlabel(\"x_1\")\n",
        "plt.ylabel(\"x_2\")\n",
        "plt.title('LPP:Graphical Solution')\n",
        "plt.axis([0, 3, 0, 6])\n",
        "plt.grid(True)\n",
        "plt.legend()\n",
        "plt.show()"
      ],
      "metadata": {
        "colab": {
          "base_uri": "https://localhost:8080/",
          "height": 472
        },
        "id": "dwD7fUR-0DMf",
        "outputId": "81c3759a-7e6f-429a-d507-83689e9b59f8"
      },
      "execution_count": 117,
      "outputs": [
        {
          "output_type": "display_data",
          "data": {
            "text/plain": [
              "<Figure size 640x480 with 1 Axes>"
            ],
            "image/png": "[encoded data removed]"
          },
          "metadata": {}
        }
      ]
    },
    {
      "cell_type": "code",
      "source": [
        "# https://pypi.org/project/PuLP/"
      ],
      "metadata": {
        "id": "EpDtxOmp0DRf"
      },
      "execution_count": null,
      "outputs": []
    }
  ]
}